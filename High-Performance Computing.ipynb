{
 "cells": [
  {
   "cell_type": "markdown",
   "metadata": {},
   "source": [
    "<h1 class=\"text-center\">High-Performance Computing</h1>"
   ]
  },
  {
   "cell_type": "markdown",
   "metadata": {},
   "source": [
    "## 1) Choose the function or fragment of code you want to speed up"
   ]
  },
  {
   "cell_type": "markdown",
   "metadata": {},
   "source": [
    "I've tried to speed up some functions from my course work [Warehouse optimization](https://github.com/anafisa/Warehouse-optimization). There were functions _ordering1, ordering2, ordering3._ These methods allows automaticly find the most efficient relocation of workes between floors and reduce significantly the total execution time of working shift.  "
   ]
  },
  {
   "cell_type": "code",
   "execution_count": 1,
   "metadata": {},
   "outputs": [],
   "source": [
    "from data import waves, floors,  wave_floor_route, wave_workers\n",
    "from route_time_calc import route_time, wave_time"
   ]
  },
  {
   "cell_type": "code",
   "execution_count": 2,
   "metadata": {},
   "outputs": [],
   "source": [
    "def ordering1(n, routes, route_time):\n",
    "    \n",
    "    d = dict()\n",
    "    new_time = [0] * n\n",
    "    time = []\n",
    "\n",
    "    for i in routes:\n",
    "        d[route_time[i]] = i\n",
    "        time.append(route_time[i])\n",
    "\n",
    "    time = sorted(time, reverse=True)\n",
    "\n",
    "    while time:\n",
    "        for i in range(0, len(new_time)):\n",
    "            if time:\n",
    "                ind = new_time.index(min(new_time))\n",
    "                new_time[ind] += time[0]\n",
    "                time.remove(time[0])\n",
    "            else:\n",
    "                break\n",
    "    return new_time       \n",
    "                "
   ]
  },
  {
   "cell_type": "code",
   "execution_count": 3,
   "metadata": {},
   "outputs": [],
   "source": [
    "def ordering3(wave, wave_workers, wave_floor_route, floors):\n",
    "    \n",
    "    workers = wave_workers[wave]\n",
    "    k = workers // 2\n",
    "    tt = [[], [], [], []]\n",
    "    res = []\n",
    "    rel = []\n",
    "\n",
    "    for i in range(1, k):\n",
    "        for j in floors:\n",
    "            routes = wave_floor_route[wave][j]\n",
    "            tt[int(j) - 1].append(max(ordering1(i, routes, route_time)))\n",
    "\n",
    "    for i in range(1, len(tt[0]) + 1):\n",
    "        for j in range(1, len(tt[1]) + 1):\n",
    "            for g in range(1, len(tt[2]) + 1):\n",
    "                for k in range(1, len(tt[3]) + 1):\n",
    "                    if i + j + g + k == workers:\n",
    "                        res.append(max(tt[0][i - 1], tt[1][j - 1], tt[2][g - 1], tt[3][k - 1]))\n",
    "                        rel.append([i, j, g, k])\n",
    "\n",
    "    ind = res.index(min(res))\n",
    "    return [min(res), rel[ind]]"
   ]
  },
  {
   "cell_type": "markdown",
   "metadata": {},
   "source": [
    "Let's check the execution time of functions "
   ]
  },
  {
   "cell_type": "code",
   "execution_count": 4,
   "metadata": {},
   "outputs": [],
   "source": [
    "def res():\n",
    "    for wave in waves:\n",
    "        return ordering3(wave, wave_workers,wave_floor_route, floors)"
   ]
  },
  {
   "cell_type": "code",
   "execution_count": 5,
   "metadata": {},
   "outputs": [
    {
     "name": "stdout",
     "output_type": "stream",
     "text": [
      "21.2 ms ± 86.9 µs per loop (mean ± std. dev. of 7 runs, 10 loops each)\n"
     ]
    }
   ],
   "source": [
    "%timeit res()"
   ]
  },
  {
   "cell_type": "markdown",
   "metadata": {},
   "source": [
    "## 2) Try to speed up functions using Cython (without types)"
   ]
  },
  {
   "cell_type": "code",
   "execution_count": 6,
   "metadata": {},
   "outputs": [],
   "source": [
    "%load_ext cython"
   ]
  },
  {
   "cell_type": "code",
   "execution_count": 7,
   "metadata": {},
   "outputs": [],
   "source": [
    "%%cython\n",
    "\n",
    "def cython_ordering1(n, routes, route_time):\n",
    "    \n",
    "    d = dict()\n",
    "    new_time = [0] * n\n",
    "    time = []\n",
    "\n",
    "    for i in routes:\n",
    "        d[route_time[i]] = i\n",
    "        time.append(route_time[i])\n",
    "\n",
    "    time = sorted(time, reverse=True)\n",
    "\n",
    "    while time:\n",
    "        for i in range(0, len(new_time)):\n",
    "            if time:\n",
    "                ind = new_time.index(min(new_time))\n",
    "                new_time[ind] += time[0]\n",
    "                time.remove(time[0])\n",
    "            else:\n",
    "                break\n",
    "                \n",
    "    return new_time       \n",
    "                "
   ]
  },
  {
   "cell_type": "code",
   "execution_count": 8,
   "metadata": {},
   "outputs": [],
   "source": [
    "%%cython \n",
    "\n",
    "def cython_ordering3(wave, wave_workers, wave_floor_route, floors, route_time, cython_ordering1):\n",
    "    \n",
    "    workers = wave_workers[wave]\n",
    "    k = workers // 2\n",
    "    tt = [[], [], [], []]\n",
    "    res = []\n",
    "    rel = []\n",
    "\n",
    "    for i in range(1, k):\n",
    "        for j in floors:\n",
    "            routes = wave_floor_route[wave][j]\n",
    "            tt[int(j) - 1].append(max(cython_ordering1(i, routes, route_time)))\n",
    "\n",
    "    for i in range(1, len(tt[0]) + 1):\n",
    "        for j in range(1, len(tt[1]) + 1):\n",
    "            for g in range(1, len(tt[2]) + 1):\n",
    "                for k in range(1, len(tt[3]) + 1):\n",
    "                    if i + j + g + k == workers:\n",
    "                        res.append(max(tt[0][i - 1], tt[1][j - 1], tt[2][g - 1], tt[3][k - 1]))\n",
    "                        rel.append([i, j, g, k])\n",
    "\n",
    "    ind = res.index(min(res))\n",
    "\n",
    "    return [min(res), rel[ind]]"
   ]
  },
  {
   "cell_type": "markdown",
   "metadata": {},
   "source": [
    "Let's check the execution time of functions using Cython"
   ]
  },
  {
   "cell_type": "code",
   "execution_count": 9,
   "metadata": {},
   "outputs": [],
   "source": [
    "def res():\n",
    "    for wave in waves:\n",
    "        return cython_ordering3(wave, wave_workers, wave_floor_route, floors,route_time, cython_ordering1)"
   ]
  },
  {
   "cell_type": "code",
   "execution_count": 10,
   "metadata": {},
   "outputs": [
    {
     "name": "stdout",
     "output_type": "stream",
     "text": [
      "11.1 ms ± 9.67 µs per loop (mean ± std. dev. of 7 runs, 100 loops each)\n"
     ]
    }
   ],
   "source": [
    "%timeit res()"
   ]
  },
  {
   "cell_type": "markdown",
   "metadata": {},
   "source": [
    "Cython (without types) allows to speed up Python functions almost in 2 times. At first we have 21.2 ms, now it's 11.1 ms. Great!"
   ]
  },
  {
   "cell_type": "markdown",
   "metadata": {},
   "source": [
    "## 3) Try to speed up functions using Cython types"
   ]
  },
  {
   "cell_type": "code",
   "execution_count": 11,
   "metadata": {},
   "outputs": [],
   "source": [
    "%%cython\n",
    "def cython_ordering1(int n, \n",
    "                     list routes, \n",
    "                     dict route_time):\n",
    "\n",
    "    cdef int i, j\n",
    "    cdef list time, new_time\n",
    "    cdef dict d\n",
    "    \n",
    "    d = dict()\n",
    "    new_time = [0] * n\n",
    "    time = []\n",
    "\n",
    "    for i in routes:\n",
    "        d[route_time[i]] = i\n",
    "        time.append(route_time[i])\n",
    "\n",
    "    time = sorted(time, reverse=True)\n",
    "\n",
    "    while time:\n",
    "        for j in range(0, len(new_time)):\n",
    "            if time:\n",
    "                ind = new_time.index(min(new_time))\n",
    "                new_time[ind] += time[0]\n",
    "                time.remove(time[0])\n",
    "            else:\n",
    "                break\n",
    "                \n",
    "    return new_time       \n",
    "                "
   ]
  },
  {
   "cell_type": "code",
   "execution_count": 12,
   "metadata": {},
   "outputs": [],
   "source": [
    "%%cython \n",
    "def cython_ordering3(int wave, \n",
    "                     dict wave_workers, wave_floor_route, \n",
    "                     list floors, \n",
    "                     dict route_time, cython_ordering1):\n",
    "    \n",
    "    cdef int w, workers, i, w1, w2, w3, w4, ind\n",
    "    cdef str j\n",
    "    cdef list res, rel, tt\n",
    "\n",
    "    \n",
    "    workers = wave_workers[wave]\n",
    "    w = workers // 2\n",
    "    tt = [[], [], [], []]\n",
    "    res = []\n",
    "    rel = []\n",
    "\n",
    "    for i in range(1, w):\n",
    "        for j in floors:\n",
    "            routes = wave_floor_route[wave][j]\n",
    "            tt[int(j) - 1].append(max(cython_ordering1(i, routes, route_time)))\n",
    "\n",
    "    for w1 in range(1, len(tt[0]) + 1):\n",
    "        for w2 in range(1, len(tt[1]) + 1):\n",
    "            for w3 in range(1, len(tt[2]) + 1):\n",
    "                for w4 in range(1, len(tt[3]) + 1):\n",
    "                    if w1 + w2 + w3 + w4 == workers:\n",
    "                        res.append(max(tt[0][w1 - 1], tt[1][w2 - 1], tt[2][w3 - 1], tt[3][w4 - 1]))\n",
    "                        rel.append([w1, w2, w3, w4])\n",
    "\n",
    "    ind = res.index(min(res))\n",
    "\n",
    "    return [min(res), rel[ind]]"
   ]
  },
  {
   "cell_type": "code",
   "execution_count": 13,
   "metadata": {},
   "outputs": [],
   "source": [
    "def res():\n",
    "    for wave in waves:\n",
    "        return cython_ordering3(wave, wave_workers, wave_floor_route, floors, route_time, cython_ordering1)"
   ]
  },
  {
   "cell_type": "code",
   "execution_count": 14,
   "metadata": {},
   "outputs": [
    {
     "name": "stdout",
     "output_type": "stream",
     "text": [
      "2.92 ms ± 12 µs per loop (mean ± std. dev. of 7 runs, 100 loops each)\n"
     ]
    }
   ],
   "source": [
    "%timeit res()"
   ]
  },
  {
   "cell_type": "markdown",
   "metadata": {},
   "source": [
    "Cython types allow to speed up Python functions almost in 10 times! The results may be rather better in some specific tasks with numerous calculations."
   ]
  },
  {
   "cell_type": "markdown",
   "metadata": {},
   "source": [
    "## 4) Try to speed up functions using Numba"
   ]
  },
  {
   "cell_type": "code",
   "execution_count": 15,
   "metadata": {},
   "outputs": [],
   "source": [
    "from numba import jit"
   ]
  },
  {
   "cell_type": "code",
   "execution_count": 16,
   "metadata": {},
   "outputs": [],
   "source": [
    "@jit\n",
    "def ordering1(n, routes, route_time):\n",
    "    \n",
    "    d = dict()\n",
    "    new_time = [0] * n\n",
    "    time = []\n",
    "\n",
    "    for i in routes:\n",
    "        d[route_time[i]] = i\n",
    "        time.append(route_time[i])\n",
    "\n",
    "    time = sorted(time, reverse=True)\n",
    "\n",
    "    while time:\n",
    "        for i in range(0, len(new_time)):\n",
    "            if time:\n",
    "                ind = new_time.index(min(new_time))\n",
    "                new_time[ind] += time[0]\n",
    "                time.remove(time[0])\n",
    "            else:\n",
    "                break\n",
    "    return new_time       \n",
    "                 "
   ]
  },
  {
   "cell_type": "code",
   "execution_count": 17,
   "metadata": {},
   "outputs": [],
   "source": [
    "@jit\n",
    "def ordering3(wave, wave_workers,wave_floor_route, floors):\n",
    "    \n",
    "    workers = wave_workers[wave]\n",
    "    k = workers // 2\n",
    "    tt = [[], [], [], []]\n",
    "    res = []\n",
    "    rel = []\n",
    "\n",
    "    for i in range(1, k):\n",
    "        for j in floors:\n",
    "            routes = wave_floor_route[wave][j]\n",
    "            tt[int(j) - 1].append(max(ordering1(i, routes, route_time)))\n",
    "\n",
    "    for i in range(1, len(tt[0]) + 1):\n",
    "        for j in range(1, len(tt[1]) + 1):\n",
    "            for g in range(1, len(tt[2]) + 1):\n",
    "                for k in range(1, len(tt[3]) + 1):\n",
    "                    if i + j + g + k == workers:\n",
    "                        res.append(max(tt[0][i - 1], tt[1][j - 1], tt[2][g - 1], tt[3][k - 1]))\n",
    "                        rel.append([i, j, g, k])\n",
    "\n",
    "    ind = res.index(min(res))\n",
    "    return [min(res), rel[ind]]"
   ]
  },
  {
   "cell_type": "code",
   "execution_count": 18,
   "metadata": {},
   "outputs": [],
   "source": [
    "def res():\n",
    "    for wave in waves:\n",
    "        return cython_ordering3(wave, wave_workers,wave_floor_route, floors,route_time, cython_ordering1)"
   ]
  },
  {
   "cell_type": "code",
   "execution_count": 19,
   "metadata": {},
   "outputs": [
    {
     "name": "stdout",
     "output_type": "stream",
     "text": [
      "2.95 ms ± 43.4 µs per loop (mean ± std. dev. of 7 runs, 100 loops each)\n"
     ]
    }
   ],
   "source": [
    "%timeit res()"
   ]
  },
  {
   "cell_type": "markdown",
   "metadata": {},
   "source": [
    "The results of Numba are almost the same as Cython with types. "
   ]
  }
 ],
 "metadata": {
  "kernelspec": {
   "display_name": "Python 3",
   "language": "python",
   "name": "python3"
  },
  "language_info": {
   "codemirror_mode": {
    "name": "ipython",
    "version": 3
   },
   "file_extension": ".py",
   "mimetype": "text/x-python",
   "name": "python",
   "nbconvert_exporter": "python",
   "pygments_lexer": "ipython3",
   "version": "3.7.4"
  }
 },
 "nbformat": 4,
 "nbformat_minor": 2
}
